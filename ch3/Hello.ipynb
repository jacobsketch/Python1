{
 "cells": [
  {
   "cell_type": "markdown",
   "metadata": {},
   "source": [
    "# Chapter 3 - Strings\n",
    "Strings are a variable type that encodes text. Strings can be any combination of letters numbers or symbols between quotes.\n",
    "To execute the code inside of a cell, highlight the cell by clicking on it or using the up/down arrows, then press Ctrl+Enter"
   ]
  },
  {
   "cell_type": "code",
   "execution_count": 30,
   "metadata": {},
   "outputs": [
    {
     "name": "stdout",
     "output_type": "stream",
     "text": [
      "Hello\n",
      "Bob\n",
      "我是美国人\n",
      "1lkrj32rkl1knp1u442314\n",
      "3\n"
     ]
    }
   ],
   "source": [
    "print('Hello')\n",
    "print('Bob')\n",
    "print('我是美国人')\n",
    "print('1lkrj32rkl1knp1u442314')\n",
    "print('3')"
   ]
  },
  {
   "cell_type": "markdown",
   "metadata": {},
   "source": [
    "Strings can be changed in a lot of ways. You can add strings together (_string concatenation_) or multiply them by an integer."
   ]
  },
  {
   "cell_type": "code",
   "execution_count": 31,
   "metadata": {},
   "outputs": [
    {
     "name": "stdout",
     "output_type": "stream",
     "text": [
      "Hi Bob!\n",
      "Nuh-uh Nuh-uh Nuh-uh Nuh-uh Nuh-uh Nuh-uh Nuh-uh Nuh-uh Nuh-uh Nuh-uh \n",
      "applebananaapple\n",
      "appleappleappleapple\n"
     ]
    }
   ],
   "source": [
    "print('Hi' + ' ' + 'Bob!')\n",
    "print('Nuh-uh '*10)\n",
    "a = 'apple'\n",
    "b = \"banana\"\n",
    "print(a + b + a)\n",
    "print(4*a)"
   ]
  },
  {
   "cell_type": "markdown",
   "metadata": {},
   "source": [
    "### Practice 1:\n",
    "1. Print Hello World!\n",
    "2. Write out duck duck goose with 6 ducks and then one goose"
   ]
  },
  {
   "cell_type": "code",
   "execution_count": null,
   "metadata": {
    "collapsed": true
   },
   "outputs": [],
   "source": [
    "print('Hello World!')"
   ]
  },
  {
   "cell_type": "code",
   "execution_count": 32,
   "metadata": {},
   "outputs": [
    {
     "name": "stdout",
     "output_type": "stream",
     "text": [
      "duck duck duck duck duck duck goose\n"
     ]
    }
   ],
   "source": [
    "a = 'duck '\n",
    "b = 'goose'\n",
    "print(a*6 + b )"
   ]
  },
  {
   "cell_type": "markdown",
   "metadata": {},
   "source": [
    "## String formatting\n",
    "It can be messy to keep adding string together to make a sentence. Python supports a nice way of writing out strings with the .format() ending. We'll see how to use that below"
   ]
  },
  {
   "cell_type": "code",
   "execution_count": 33,
   "metadata": {},
   "outputs": [
    {
     "name": "stdout",
     "output_type": "stream",
     "text": [
      "My favorite sport is football. I don't like baseball\n"
     ]
    }
   ],
   "source": [
    "sport = 'football'\n",
    "dislike = 'baseball'\n",
    "print(\"My favorite sport is {0}. I don't like {1}\".format(sport, dislike))"
   ]
  },
  {
   "cell_type": "code",
   "execution_count": 34,
   "metadata": {},
   "outputs": [
    {
     "name": "stdout",
     "output_type": "stream",
     "text": [
      "I have 4 apples, 3 bananas\n",
      "Hi Bob. Bob is a silly name. BobBobBob\n"
     ]
    }
   ],
   "source": [
    "num_apples = 4\n",
    "num_bananas = 3\n",
    "name = 'Bob'\n",
    "print('I have {0} apples, {1} bananas'.format(num_apples, num_bananas))\n",
    "print('Hi {0}. {0} is a silly name. {0}{0}{0}'.format(name))"
   ]
  },
  {
   "cell_type": "markdown",
   "metadata": {},
   "source": [
    "## Input\n",
    "Games aren't any fun unless the player can interact with the computer. The simplest way to tell the computer something useful is with the `input()` command."
   ]
  },
  {
   "cell_type": "code",
   "execution_count": 39,
   "metadata": {},
   "outputs": [
    {
     "name": "stdout",
     "output_type": "stream",
     "text": [
      "What is your favorite color? playing checkers on coolmathgames.com\n",
      "My favorite color is playing checkers on coolmathgames.com\n"
     ]
    }
   ],
   "source": [
    "color = input('What is your favorite color? ')\n",
    "print('My favorite color is ' + color)"
   ]
  },
  {
   "cell_type": "code",
   "execution_count": 42,
   "metadata": {},
   "outputs": [
    {
     "name": "stdout",
     "output_type": "stream",
     "text": [
      "How old are you? coolmathgames.com\n",
      "I'm coolmathgames.com years old\n"
     ]
    }
   ],
   "source": [
    "age = input('How old are you? ')\n",
    "print(\"I'm {0} years old\".format(age))"
   ]
  },
  {
   "cell_type": "markdown",
   "metadata": {},
   "source": [
    "Is there anything wrong with this input? What would happen if you put in a silly response?\n",
    "\n",
    "### Practice 2\n",
    "1. Write a program that asks you for your name and greets you with your name.\n",
    "2. Write a program that asks for your first name and last name then writes out Last name, First name (e.g. Sketch, Christopher)"
   ]
  },
  {
   "cell_type": "code",
   "execution_count": 46,
   "metadata": {},
   "outputs": [
    {
     "name": "stdout",
     "output_type": "stream",
     "text": [
      "Hello what's your name? jacob\n",
      "Come play cool math games with me jacob\n"
     ]
    }
   ],
   "source": [
    "name = input(\"Hello what's your name? \")\n",
    "print(\"Come play cool math games with me \" + name)"
   ]
  },
  {
   "cell_type": "code",
   "execution_count": 50,
   "metadata": {},
   "outputs": [
    {
     "name": "stdout",
     "output_type": "stream",
     "text": [
      "input your first name jacob\n",
      "input your last name sketch\n",
      "hello sketch jacob\n"
     ]
    }
   ],
   "source": [
    "fname = input('input your first name ')\n",
    "lname = input('input your last name ')\n",
    "print(\"hello {1}, {0}\".format(fname, lname))"
   ]
  },
  {
   "cell_type": "markdown",
   "metadata": {},
   "source": [
    "## Errors\n",
    "What happens when we make a typo and try to write something that doesn't exist?"
   ]
  },
  {
   "cell_type": "code",
   "execution_count": null,
   "metadata": {
    "collapsed": true
   },
   "outputs": [],
   "source": [
    "num_fruit = 4\n",
    "print('I have {0} fruits'.format(num_fruits))"
   ]
  },
  {
   "cell_type": "markdown",
   "metadata": {},
   "source": [
    "## Hello program\n",
    "We want to make a program that will do the following:\n",
    "1. Say \"Hello, World!\"\n",
    "2. Ask \"What is your name?\"\n",
    "3. Respond \"It is good to meet you YOURNAMEHERE.\"\n",
    "\n",
    "After you're done we'll move this program to its own file so we can execute it by itself."
   ]
  },
  {
   "cell_type": "code",
   "execution_count": 51,
   "metadata": {},
   "outputs": [
    {
     "name": "stdout",
     "output_type": "stream",
     "text": [
      "Hello World!\n",
      "What is your name?jacob\n",
      "It is good to meet you jacob\n"
     ]
    }
   ],
   "source": [
    "print('Hello World!')\n",
    "name = input('What is your name?')\n",
    "print('It is good to meet you '+name)"
   ]
  }
 ],
 "metadata": {
  "kernelspec": {
   "display_name": "Python 3",
   "language": "python",
   "name": "python3"
  },
  "language_info": {
   "codemirror_mode": {
    "name": "ipython",
    "version": 3
   },
   "file_extension": ".py",
   "mimetype": "text/x-python",
   "name": "python",
   "nbconvert_exporter": "python",
   "pygments_lexer": "ipython3",
   "version": "3.6.1"
  }
 },
 "nbformat": 4,
 "nbformat_minor": 2
}
