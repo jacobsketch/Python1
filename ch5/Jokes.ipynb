{
 "cells": [
  {
   "cell_type": "markdown",
   "metadata": {},
   "source": [
    "# Jokes\n",
    "In this lesson we'll review printing and strings."
   ]
  },
  {
   "cell_type": "markdown",
   "metadata": {},
   "source": [
    "## Review of last lesson"
   ]
  },
  {
   "cell_type": "markdown",
   "metadata": {},
   "source": [
    "## Escape Characters\n",
    "\n",
    "|Escape Character   |What it does|Example|Output\n",
    "|---|---|---|---|---|\n",
    "|\\n |newline     |'Hello\\nWorld'   |Hello|\n",
    "|   |            |                 |World|\n",
    "|\\t |tab         |'Hello\\tWorld'   |Hello    World|\n",
    "|\\' |Single quote|'I won\\'t'       |I won't|\n",
    "|\\' |Double quote|\"He said, \\\"Hi\\\"\"|He said, \"Hi\"|\n",
    "|\\\\ |Backslash   |'In Documents\\\\' |In Documents\\|\n"
   ]
  },
  {
   "cell_type": "markdown",
   "metadata": {},
   "source": [
    "### Practice\n",
    "1. Print out the string (I said, \"You can't do that\")\n",
    "2. Print out Name:, Age:, Favorite color: on three separate lines in one string."
   ]
  },
  {
   "cell_type": "code",
   "execution_count": null,
   "metadata": {
    "collapsed": true
   },
   "outputs": [],
   "source": []
  },
  {
   "cell_type": "markdown",
   "metadata": {},
   "source": [
    "## Printing on one line\n",
    "Normally print functions will add a new line at the end of each call. If you want to change that you can change the ending."
   ]
  },
  {
   "cell_type": "code",
   "execution_count": null,
   "metadata": {},
   "outputs": [],
   "source": [
    "print('abcdefg')\n",
    "print('hijklmnop')\n",
    "print('abcdefg', end='')\n",
    "print('hijklmnop')\n",
    "print('Line one', end='\\n\\n')\n",
    "print('Line two')"
   ]
  },
  {
   "cell_type": "markdown",
   "metadata": {},
   "source": [
    "### Practice\n",
    "1. Change your print statements so that they end in -ay like a Canadian :P"
   ]
  },
  {
   "cell_type": "code",
   "execution_count": null,
   "metadata": {
    "collapsed": true
   },
   "outputs": [],
   "source": []
  },
  {
   "cell_type": "markdown",
   "metadata": {},
   "source": [
    "## Jokes"
   ]
  },
  {
   "cell_type": "code",
   "execution_count": null,
   "metadata": {},
   "outputs": [],
   "source": [
    "print('What do you get when you cross a snowman with a vampire?')\n",
    "input()\n",
    "print('Frostbite!')\n",
    "print()\n",
    "print('What do dentists call a astronaut\\'s cavity?')\n",
    "input()\n",
    "print('A black hole!')\n",
    "print()\n",
    "print('Knock knock.')\n",
    "input()\n",
    "print(\"Who's there?\")\n",
    "input()\n",
    "print('Interrupting cow.')\n",
    "input()\n",
    "print('Interrupting cow wh', end='')\n",
    "print('-MOO!')"
   ]
  }
 ],
 "metadata": {
  "kernelspec": {
   "display_name": "Python 3",
   "language": "python",
   "name": "python3"
  },
  "language_info": {
   "codemirror_mode": {
    "name": "ipython",
    "version": 3
   },
   "file_extension": ".py",
   "mimetype": "text/x-python",
   "name": "python",
   "nbconvert_exporter": "python",
   "pygments_lexer": "ipython3",
   "version": "3.6.1"
  }
 },
 "nbformat": 4,
 "nbformat_minor": 2
}
